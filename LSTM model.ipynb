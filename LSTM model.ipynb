{
 "cells": [
  {
   "cell_type": "markdown",
   "metadata": {},
   "source": [
    "# Creating a model which predicts the future number using LSTM & CNN LSTM"
   ]
  },
  {
   "cell_type": "code",
   "execution_count": 1,
   "metadata": {},
   "outputs": [
    {
     "name": "stderr",
     "output_type": "stream",
     "text": [
      "Using TensorFlow backend.\n"
     ]
    }
   ],
   "source": [
    "#importing required libraries\n",
    "#will create a model which predicts a number from a univariate data\n",
    "import numpy as np\n",
    "from keras.models import Sequential\n",
    "from keras.layers import LSTM\n",
    "from keras.layers import Dense"
   ]
  },
  {
   "cell_type": "markdown",
   "metadata": {},
   "source": [
    "Here we need a sequence of data divided into input and output patterns and we need a time steps which are used as input and one time step is used as output for one_step_prediction\n",
    "so this can be achived by deriving as funtion which is helps us to split the input data into 4 steps and output data into into one time step so here we create a funtion for achiving this"
   ]
  },
  {
   "cell_type": "code",
   "execution_count": 2,
   "metadata": {},
   "outputs": [],
   "source": [
    "def split(sequence,n_steps):\n",
    "    x,y = list(),list()\n",
    "    for i in range(len(sequence)):\n",
    "        end_x = i + n_steps #to find the end of the pattern\n",
    "        if end_x > len(sequence)-1: #chk if we go beyond the sequence\n",
    "            break\n",
    "        seq_x,seq_y = sequence[i:end_x],sequence[end_x] #getting the input and output of the data\n",
    "        x.append(seq_x)\n",
    "        y.append(seq_y)\n",
    "    return np.array(x),np.array(y)"
   ]
  },
  {
   "cell_type": "code",
   "execution_count": 3,
   "metadata": {},
   "outputs": [
    {
     "name": "stdout",
     "output_type": "stream",
     "text": [
      "[10 20 30] 40\n",
      "[20 30 40] 50\n",
      "[30 40 50] 60\n",
      "[40 50 60] 70\n",
      "[50 60 70] 80\n",
      "[60 70 80] 90\n"
     ]
    }
   ],
   "source": [
    "#lets chk the working of above funtion \n",
    "import pandas as pd\n",
    "data = [10,20,30,40,50,60,70,80,90]\n",
    "n_steps = 3\n",
    "a,b = split(data,n_steps)\n",
    "for i in range (len(a)):\n",
    "    print(a[i],b[i])"
   ]
  },
  {
   "cell_type": "code",
   "execution_count": 8,
   "metadata": {},
   "outputs": [
    {
     "name": "stdout",
     "output_type": "stream",
     "text": [
      "The approximate predicted value is:  [[54.541683]]\n"
     ]
    }
   ],
   "source": [
    "#here we pass the univariate data into a variable called data\n",
    "data = [10,20,30,40,50,60,70,80,90]\n",
    "#as discused we also create n_steps of split for spliting the data\n",
    "n_steps = 4\n",
    "x,y = split(data,n_steps)\n",
    "#here we reshape the data for the model useage according to its artributes\n",
    "n_feature = 1\n",
    "x = x.reshape((x.shape[0],x.shape[1],n_feature))\n",
    "#model creation\n",
    "model = Sequential()\n",
    "#cearting an hidden layer with 50 LSTM units and one single output\n",
    "model.add(LSTM(50,activation='relu',input_shape=(n_steps,n_feature)))\n",
    "model.add(Dense(1))\n",
    "#compiling the model\n",
    "model.compile(optimizer='adam',loss='mse')\n",
    "#fitting the created model to the data\n",
    "model.fit(x,y,epochs=300,verbose=0)\n",
    "#by here we are done with creating the model\n",
    "#so now lets chk and make prediction\n",
    "x_input = np.array([12,22,33,44])\n",
    "x_input = x_input.reshape((1,n_steps,n_feature))\n",
    "y_pred = model.predict(x_input,verbose=0)\n",
    "print(\"The approximate predicted value is: \",y_pred)"
   ]
  },
  {
   "cell_type": "markdown",
   "metadata": {},
   "source": [
    "# implementing the same with CNN"
   ]
  },
  {
   "cell_type": "code",
   "execution_count": 5,
   "metadata": {},
   "outputs": [],
   "source": [
    "#importing required libararies\n",
    "from keras.layers import Flatten\n",
    "from keras.layers import TimeDistributed\n",
    "from keras.layers.convolutional import Conv1D\n",
    "from keras.layers.convolutional import MaxPooling1D"
   ]
  },
  {
   "cell_type": "code",
   "execution_count": 7,
   "metadata": {},
   "outputs": [
    {
     "name": "stdout",
     "output_type": "stream",
     "text": [
      "The approximate value is:  [[102.76222]]\n"
     ]
    }
   ],
   "source": [
    "#all the steps are performed in the same manner\n",
    "df = [10,20,30,40,50,60,70,80,90]\n",
    "s_steps = 4\n",
    "#split into samples\n",
    "x,y = split(df,s_steps)\n",
    "#reshape\n",
    "n_features = 1\n",
    "n_seq = 2\n",
    "n_steps = 2\n",
    "x = x.reshape((x.shape[0],n_seq,n_steps,n_features))\n",
    "#creating model\n",
    "model = Sequential()\n",
    "model.add(TimeDistributed(Conv1D(filters=64,kernel_size=1,activation = 'relu'),input_shape=(None,n_steps,n_features)))\n",
    "model.add(TimeDistributed(MaxPooling1D(pool_size=2)))\n",
    "model.add(TimeDistributed(Flatten()))\n",
    "model.add(LSTM(50,activation='relu'))\n",
    "model.add(Dense(1))\n",
    "#compiling the model with adam optimizer\n",
    "model.compile(optimizer='adam',loss='mse')\n",
    "#fittng the model\n",
    "model.fit(x,y,epochs=350,verbose=0)\n",
    "#make prediction\n",
    "x_input = np.array([60,70,80,90])\n",
    "x_input = x_input.reshape((1,n_seq,n_steps,n_features))\n",
    "y_predict = model.predict(x_input,verbose=0)\n",
    "print(\"The approximate value is: \",y_predict)"
   ]
  },
  {
   "cell_type": "code",
   "execution_count": null,
   "metadata": {},
   "outputs": [],
   "source": []
  },
  {
   "cell_type": "code",
   "execution_count": null,
   "metadata": {},
   "outputs": [],
   "source": []
  }
 ],
 "metadata": {
  "kernelspec": {
   "display_name": "Python 3",
   "language": "python",
   "name": "python3"
  },
  "language_info": {
   "codemirror_mode": {
    "name": "ipython",
    "version": 3
   },
   "file_extension": ".py",
   "mimetype": "text/x-python",
   "name": "python",
   "nbconvert_exporter": "python",
   "pygments_lexer": "ipython3",
   "version": "3.7.3"
  }
 },
 "nbformat": 4,
 "nbformat_minor": 2
}
